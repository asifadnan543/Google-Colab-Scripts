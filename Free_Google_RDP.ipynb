{
  "nbformat": 4,
  "nbformat_minor": 0,
  "metadata": {
    "colab": {
      "name": "Free Google RDP.ipynb",
      "provenance": [],
      "authorship_tag": "ABX9TyPP6MwslCCuQtfNALIOeH+0",
      "include_colab_link": true
    },
    "kernelspec": {
      "name": "python3",
      "display_name": "Python 3"
    }
  },
  "cells": [
    {
      "cell_type": "markdown",
      "metadata": {
        "id": "view-in-github",
        "colab_type": "text"
      },
      "source": [
        "<a href=\"https://colab.research.google.com/github/asifadnan543/Google-Colab-Scripts/blob/main/Free_Google_RDP.ipynb\" target=\"_parent\"><img src=\"https://colab.research.google.com/assets/colab-badge.svg\" alt=\"Open In Colab\"/></a>"
      ]
    },
    {
      "cell_type": "code",
      "metadata": {
        "id": "1URnSQw1o6nl"
      },
      "source": [
        "! wget https://raw.githubusercontent.com/alok676875/RDP/main/RDP.sh &> /dev/null\r\n",
        "! chmod +x RDP.sh\r\n",
        "! ./RDP.sh"
      ],
      "execution_count": null,
      "outputs": []
    }
  ]
}